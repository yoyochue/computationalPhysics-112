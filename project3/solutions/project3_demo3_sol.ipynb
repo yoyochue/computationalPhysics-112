{
 "cells": [
  {
   "cell_type": "markdown",
   "metadata": {},
   "source": [
    "# Linear systems"
   ]
  },
  {
   "cell_type": "code",
   "execution_count": 26,
   "metadata": {},
   "outputs": [],
   "source": [
    "import numpy as np\n",
    "from mylinalg_sol import solveLowerTriangular, solveUpperTriangular, lu, lu_solve"
   ]
  },
  {
   "cell_type": "markdown",
   "metadata": {},
   "source": [
    "# Exercise: LU decomposition\n",
    "\n",
    "Write a python program to solve it. \n",
    "Do not use any linear algebra packackes. \n",
    "Use your own linear algebra solvers in `mylinalg.py`.\n",
    "\n",
    "$$\n",
    "\\boldsymbol{Ax}=\n",
    "\\begin{bmatrix}\n",
    "2 & 4 & -2 \\\\\n",
    "4 & 9 & -3 \\\\\n",
    "-2 & -3 & 7 \\\\\n",
    "\\end{bmatrix}\n",
    "\\cdot\n",
    "\\begin{bmatrix}\n",
    "x_{1} \\\\\n",
    "x_2 \\\\\n",
    "x_3 \\\\\n",
    "\\end{bmatrix}\n",
    "=\n",
    "\\begin{bmatrix}\n",
    "2 \\\\\n",
    "8 \\\\\n",
    "10 \\\\\n",
    "\\end{bmatrix}\n",
    "= \\boldsymbol{b}\n",
    "$$"
   ]
  },
  {
   "cell_type": "code",
   "execution_count": 27,
   "metadata": {},
   "outputs": [],
   "source": [
    "A = [[2,4,-2],[4,9,-3],[-2,-3,7]]"
   ]
  },
  {
   "cell_type": "code",
   "execution_count": 28,
   "metadata": {},
   "outputs": [],
   "source": [
    "l, u = lu(A)"
   ]
  },
  {
   "cell_type": "code",
   "execution_count": 29,
   "metadata": {},
   "outputs": [
    {
     "name": "stdout",
     "output_type": "stream",
     "text": [
      "[[ 1.  0.  0.]\n",
      " [ 2.  1.  0.]\n",
      " [-1.  1.  1.]] [[ 2.  4. -2.]\n",
      " [ 0.  1.  1.]\n",
      " [ 0.  0.  4.]]\n"
     ]
    }
   ],
   "source": [
    "print(l,u)"
   ]
  },
  {
   "cell_type": "markdown",
   "metadata": {},
   "source": [
    "Check $LU = A$"
   ]
  },
  {
   "cell_type": "code",
   "execution_count": 30,
   "metadata": {},
   "outputs": [
    {
     "name": "stdout",
     "output_type": "stream",
     "text": [
      "[[ 2.  4. -2.]\n",
      " [ 4.  9. -3.]\n",
      " [-2. -3.  7.]]\n",
      "[[2, 4, -2], [4, 9, -3], [-2, -3, 7]]\n"
     ]
    }
   ],
   "source": [
    "print(np.dot(l,u))\n",
    "print(A)"
   ]
  },
  {
   "cell_type": "code",
   "execution_count": 31,
   "metadata": {},
   "outputs": [
    {
     "name": "stdout",
     "output_type": "stream",
     "text": [
      "[-1.  2.  2.]\n"
     ]
    }
   ],
   "source": [
    "b = np.array([2,8,10])\n",
    "x = lu_solve(A,b)\n",
    "print(x)"
   ]
  },
  {
   "cell_type": "markdown",
   "metadata": {},
   "source": [
    "compare your solution with scipy"
   ]
  },
  {
   "cell_type": "code",
   "execution_count": 32,
   "metadata": {},
   "outputs": [],
   "source": [
    "from scipy.linalg import lu as scipy_lu\n",
    "from scipy.linalg import lu_factor as scipy_lu_factor\n",
    "from scipy.linalg import lu_solve as scipy_lu_solve\n",
    "from scipy.linalg import solve as scipy_solve"
   ]
  },
  {
   "cell_type": "code",
   "execution_count": 33,
   "metadata": {},
   "outputs": [
    {
     "name": "stdout",
     "output_type": "stream",
     "text": [
      "[[ 2.  4. -2.]\n",
      " [ 4.  9. -3.]\n",
      " [-2. -3.  7.]]\n",
      "[[2, 4, -2], [4, 9, -3], [-2, -3, 7]]\n"
     ]
    }
   ],
   "source": [
    "P, L, U = scipy_lu(A)\n",
    "\n",
    "# A = PLU\n",
    "print(np.dot(P,np.dot(L,U)))\n",
    "print(A)"
   ]
  },
  {
   "cell_type": "code",
   "execution_count": 34,
   "metadata": {},
   "outputs": [
    {
     "name": "stdout",
     "output_type": "stream",
     "text": [
      "[-1.  2.  2.]\n"
     ]
    }
   ],
   "source": [
    "b = np.array([2,8,10])\n",
    "lu, piv = scipy_lu_factor(A)\n",
    "x = scipy_lu_solve((lu, piv), b)\n",
    "print(x)"
   ]
  },
  {
   "cell_type": "code",
   "execution_count": 35,
   "metadata": {},
   "outputs": [
    {
     "name": "stdout",
     "output_type": "stream",
     "text": [
      "[-1.  2.  2.]\n"
     ]
    }
   ],
   "source": [
    "x = scipy_solve(A,b)\n",
    "print(x)"
   ]
  },
  {
   "cell_type": "markdown",
   "metadata": {},
   "source": [
    "# Apply to the Laplace's equation"
   ]
  },
  {
   "cell_type": "markdown",
   "metadata": {},
   "source": [
    "Copy your previous codes in `project3_demo1.ipynb` but use your own linear algebra solver."
   ]
  },
  {
   "cell_type": "code",
   "execution_count": 36,
   "metadata": {},
   "outputs": [],
   "source": [
    "import numpy as np\n",
    "from scipy.sparse import dia_array  # if dia_array is not able, use dia_matrix\n",
    "from scipy.sparse import dia_matrix\n",
    "from numba import jit, njit, prange\n",
    "import matplotlib.pyplot as plt"
   ]
  },
  {
   "cell_type": "code",
   "execution_count": 37,
   "metadata": {},
   "outputs": [],
   "source": [
    "def generate_1_4_1_dia(usize=4):\n",
    "    ex = np.ones(usize)\n",
    "    data = np.array([-ex, 4 * ex, -ex])\n",
    "    offsets = np.array([-1, 0, 1])\n",
    "    A = dia_array((data, offsets), shape=(usize, usize)).toarray()\n",
    "    return A\n",
    "\n",
    "def generate_the_laplace_matrix_with_size(N=4):\n",
    "    \"\"\"\n",
    "    assume sqrt(N) is an integer.\n",
    "\n",
    "    \"\"\"\n",
    "    nsq = N*N\n",
    "    A   = np.zeros((nsq,nsq))\n",
    "    u   = generate_1_4_1_dia(N)\n",
    "\n",
    "    d_matrix = generate_1_4_1_dia(N)\n",
    "    o_matrix = -np.identity(N)\n",
    "    z_matrix = np.zeros((N,N))\n",
    "\n",
    "    init_matrix_kernel(N,A,u,d_matrix,o_matrix,z_matrix)\n",
    "    return A\n",
    "\n",
    "@njit(parallel=True)\n",
    "def init_matrix_kernel(N,A,u,d_matrix,o_matrix, z_matrix):\n",
    "    for i in prange(N):\n",
    "        for j in prange(N):\n",
    "            if u[i,j] == 4:\n",
    "                # the elemen is another 1_4_1 matrix\n",
    "                suba = d_matrix\n",
    "            elif u[i,j] == -1:\n",
    "                suba = o_matrix\n",
    "            else:\n",
    "                suba = z_matrix\n",
    "            \n",
    "            for i2 in range(N):\n",
    "                for j2 in range(N):\n",
    "                    ii = i2 + i*N\n",
    "                    jj = j2 + j*N\n",
    "                    A[ii,jj] = suba[i2,j2]\n",
    "    return A\n",
    "\n",
    "def generate_the_rhs_vector_with_size(N=4):\n",
    "    b = np.zeros(N*N)\n",
    "    b[-N:] = 1\n",
    "    return b\n",
    "\n",
    "def convert_solution(x):\n",
    "    usize = np.sqrt(len(x))\n",
    "    u = x.reshape(int(usize),int(usize)).transpose()\n",
    "    return u\n"
   ]
  },
  {
   "cell_type": "code",
   "execution_count": 38,
   "metadata": {},
   "outputs": [],
   "source": [
    "def solve_laplace(N=16):\n",
    "    A = generate_the_laplace_matrix_with_size(N=N)\n",
    "    b = generate_the_rhs_vector_with_size(N=N)\n",
    "    #x = linalg.solve(A,b) # use scipy\n",
    "    x = lu_solve(A,b)      # use our solver\n",
    "    u = convert_solution(x)\n",
    "    return u"
   ]
  },
  {
   "cell_type": "code",
   "execution_count": 39,
   "metadata": {},
   "outputs": [],
   "source": [
    "u = solve_laplace(N=16)"
   ]
  },
  {
   "cell_type": "code",
   "execution_count": 40,
   "metadata": {},
   "outputs": [
    {
     "data": {
      "text/plain": [
       "<matplotlib.image.AxesImage at 0x1d0acfed0>"
      ]
     },
     "execution_count": 40,
     "metadata": {},
     "output_type": "execute_result"
    },
    {
     "data": {
      "image/png": "[encoded data removed]",
      "text/plain": [
       "<Figure size 640x480 with 1 Axes>"
      ]
     },
     "metadata": {},
     "output_type": "display_data"
    }
   ],
   "source": [
    "plt.imshow(u.T,origin=\"lower\")"
   ]
  },
  {
   "cell_type": "markdown",
   "metadata": {},
   "source": [
    "You could see that our solver is much slower than `scipy.linalg`. Could you speed it up?"
   ]
  }
 ],
 "metadata": {
  "kernelspec": {
   "display_name": "comphys-112",
   "language": "python",
   "name": "python3"
  },
  "language_info": {
   "codemirror_mode": {
    "name": "ipython",
    "version": 3
   },
   "file_extension": ".py",
   "mimetype": "text/x-python",
   "name": "python",
   "nbconvert_exporter": "python",
   "pygments_lexer": "ipython3",
   "version": "3.11.5"
  }
 },
 "nbformat": 4,
 "nbformat_minor": 2
}
